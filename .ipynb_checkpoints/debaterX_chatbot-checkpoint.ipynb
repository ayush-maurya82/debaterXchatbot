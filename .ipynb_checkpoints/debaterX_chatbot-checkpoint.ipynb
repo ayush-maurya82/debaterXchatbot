{
 "cells": [
  {
   "cell_type": "code",
   "execution_count": 1,
   "metadata": {
    "id": "CEwezqplT-Z0"
   },
   "outputs": [],
   "source": [
    "import numpy as np\n",
    "import nltk\n",
    "import string\n",
    "import random"
   ]
  },
  {
   "cell_type": "code",
   "execution_count": 2,
   "metadata": {
    "colab": {
     "base_uri": "https://localhost:8080/"
    },
    "id": "8MmM2PfxVcVn",
    "outputId": "b38453f1-6201-4b1b-c91a-1b9bf54784f9"
   },
   "outputs": [
    {
     "name": "stderr",
     "output_type": "stream",
     "text": [
      "[nltk_data] Downloading package punkt to\n",
      "[nltk_data]     C:\\Users\\Lenovo\\AppData\\Roaming\\nltk_data...\n",
      "[nltk_data]   Unzipping tokenizers\\punkt.zip.\n",
      "[nltk_data] Downloading package wordnet to\n",
      "[nltk_data]     C:\\Users\\Lenovo\\AppData\\Roaming\\nltk_data...\n",
      "[nltk_data]   Unzipping corpora\\wordnet.zip.\n"
     ]
    }
   ],
   "source": [
    "f=open('chatbot.txt','r',errors = 'ignore') \n",
    "raw_doc = f.read() \n",
    "raw_doc = raw_doc.lower() \n",
    "nltk.download ('punkt') \n",
    "nltk.download ('wordnet') \n",
    "sent_tokens = nltk.sent_tokenize(raw_doc) \n",
    "word_tokens = nltk.word_tokenize(raw_doc) "
   ]
  },
  {
   "cell_type": "code",
   "execution_count": 3,
   "metadata": {
    "colab": {
     "base_uri": "https://localhost:8080/"
    },
    "id": "RyEYgpCrXKzu",
    "outputId": "035dd402-2132-457f-ea62-6500773baa98"
   },
   "outputs": [
    {
     "data": {
      "text/plain": [
       "['social media\\nfrom wikipedia, the free encyclopedia\\njump to navigationjump to search\\nsocial media are interactive technologies that allow the creation or sharing/exchange of information, ideas, interests, and other forms of expression via virtual communities and networks.',\n",
       " '[1][2] while challenges to the definition of social media arise[3][4] due to the broad variety of stand-alone and built-in social-media services currently available, there are some common features:[2]\\n\\nsocial media are interactive web 2.0 internet-based applications.']"
      ]
     },
     "execution_count": 3,
     "metadata": {},
     "output_type": "execute_result"
    }
   ],
   "source": [
    "sent_tokens[:2]"
   ]
  },
  {
   "cell_type": "code",
   "execution_count": 4,
   "metadata": {
    "colab": {
     "base_uri": "https://localhost:8080/"
    },
    "id": "EtFs59oqdKAX",
    "outputId": "b77d9b03-c4e8-46a5-b39f-17bd19dbad87"
   },
   "outputs": [
    {
     "data": {
      "text/plain": [
       "['social', 'media', 'from', 'wikipedia']"
      ]
     },
     "execution_count": 4,
     "metadata": {},
     "output_type": "execute_result"
    }
   ],
   "source": [
    "word_tokens[:4]"
   ]
  },
  {
   "cell_type": "markdown",
   "metadata": {
    "id": "mIJhnQ1ldlDb"
   },
   "source": [
    "# Text Preprocessing"
   ]
  },
  {
   "cell_type": "code",
   "execution_count": 5,
   "metadata": {
    "id": "_AYGdRzJdPQb"
   },
   "outputs": [],
   "source": [
    "lemmer = nltk.stem.WordNetLemmatizer()\n",
    "def LemTokens (tokens): \n",
    "  return [lemmer.lemmatize(token) for token in tokens] \n",
    "remove_punct_dict = dict((ord(punct), None) for punct in string.punctuation)\n",
    "def LemNormalize(text): \n",
    "  return LemTokens (nltk.word_tokenize(text.lower ().translate(remove_punct_dict)))"
   ]
  },
  {
   "cell_type": "markdown",
   "metadata": {
    "id": "uXAflgbBgU3M"
   },
   "source": [
    "# Defining the greeting message"
   ]
  },
  {
   "cell_type": "code",
   "execution_count": 6,
   "metadata": {
    "id": "3udV_6xDgcqS"
   },
   "outputs": [],
   "source": [
    "GREET_INPUTS = (\"hello\", \"hii\", \"hi\", \"hey\", \"good morning\", \"good\", \"morning\", \"gm\")\n",
    "GREET_RESPONSES = [\"hii\", \"hey their\", \"hello\", \"i am glad! you are talking to me\"]\n",
    "\n",
    "def greet(sentence):\n",
    "\n",
    "  for word in sentence.split():\n",
    "    if word.lower() in GREET_INPUTS:\n",
    "      return random.choice(GREET_RESPONSES)"
   ]
  },
  {
   "cell_type": "markdown",
   "metadata": {
    "id": "d7iFRmi7iCm4"
   },
   "source": [
    "# Responce Generation"
   ]
  },
  {
   "cell_type": "code",
   "execution_count": 7,
   "metadata": {
    "id": "3ZvWx9ZTiMqi"
   },
   "outputs": [],
   "source": [
    "from sklearn.feature_extraction.text import TfidfVectorizer \n",
    "from sklearn.metrics.pairwise import cosine_similarity"
   ]
  },
  {
   "cell_type": "code",
   "execution_count": 8,
   "metadata": {
    "id": "8hvk3UMClbnO"
   },
   "outputs": [],
   "source": [
    "def response(user_response): \n",
    "  robo1_response=''\n",
    "  TfidfVec = TfidfVectorizer(tokenizer=LemNormalize, stop_words='english')\n",
    "  tfidf = TfidfVec.fit_transform(sent_tokens)\n",
    "  vals = cosine_similarity(tfidf[-1], tfidf) \n",
    "  idx = vals.argsort()[0][-2] \n",
    "  flat = vals.flatten()\n",
    "  flat.sort()\n",
    "  req_tfidf = flat[-2]\n",
    "  if (req_tfidf==0): \n",
    "    robo1_response = robo1_response+\"I am sorry! I don't understand you\" \n",
    "    return robo1_response\n",
    "  else: \n",
    "    robo1_response = robo1_response+sent_tokens[idx] \n",
    "    return robo1_response"
   ]
  },
  {
   "cell_type": "markdown",
   "metadata": {
    "id": "Cg3olgVunXms"
   },
   "source": [
    "# defining start/end protocols"
   ]
  },
  {
   "cell_type": "code",
   "execution_count": null,
   "metadata": {
    "colab": {
     "base_uri": "https://localhost:8080/"
    },
    "id": "lakdUYlmnd4_",
    "outputId": "2cbda46d-2469-4972-d95b-111685d05428"
   },
   "outputs": [
    {
     "name": "stdout",
     "output_type": "stream",
     "text": [
      "my name is Siya . lets have a conversation! also if you want to exit lrts type bye\n",
      "hi\n",
      "Siya: hii\n",
      "what is your name\n",
      "Siya: "
     ]
    },
    {
     "name": "stderr",
     "output_type": "stream",
     "text": [
      "C:\\Users\\Lenovo\\AppData\\Local\\Packages\\PythonSoftwareFoundation.Python.3.9_qbz5n2kfra8p0\\LocalCache\\local-packages\\Python39\\site-packages\\sklearn\\feature_extraction\\text.py:396: UserWarning: Your stop_words may be inconsistent with your preprocessing. Tokenizing the stop words generated tokens ['ha', 'le', 'u', 'wa'] not in stop_words.\n",
      "  warnings.warn(\n"
     ]
    },
    {
     "name": "stdout",
     "output_type": "stream",
     "text": [
      "I am sorry! I don't understand you\n",
      "what is your name ?\n",
      "Siya: I am sorry! I don't understand you\n",
      " what is your name\n",
      "Siya: I am sorry! I don't understand you\n",
      "how are you \n",
      "Siya: I am sorry! I don't understand you\n",
      "hi\n",
      "Siya: hello\n",
      "clear\n",
      "Siya: \"the (social media) evidence is clear\".\n"
     ]
    }
   ],
   "source": [
    "flag = True\n",
    "print(\"my name is Siya . lets have a conversation! also if you want to exit lrts type bye\")\n",
    "\n",
    "while (flag == True):\n",
    "  user_response = input()\n",
    "  user_response = user_response.lower()\n",
    "  if (user_response != 'bye'): \n",
    "    if (user_response == 'thanks' or user_response == 'thank you'): \n",
    "      flag = False \n",
    "      print(\"Siya: You are welcome..\") \n",
    "    else: \n",
    "      if (greet(user_response) != None):\n",
    "        print(\"Siya: \"+greet(user_response)) \n",
    "      else: \n",
    "        sent_tokens.append(user_response)\n",
    "        word_tokens = word_tokens+nltk.word_tokenize(user_response)\n",
    "        final_words = list(set(word_tokens))\n",
    "        print(\"Siya: \", end=\"\")\n",
    "        print(response(user_response))\n",
    "        sent_tokens.remove(user_response)\n",
    "  else: \n",
    "    flag=False \n",
    "    print(\"Siya: Goodbye! Take care\")"
   ]
  }
 ],
 "metadata": {
  "colab": {
   "collapsed_sections": [],
   "name": "debaterX_chatbot.ipynb",
   "provenance": []
  },
  "kernelspec": {
   "display_name": "Python 3 (ipykernel)",
   "language": "python",
   "name": "python3"
  },
  "language_info": {
   "codemirror_mode": {
    "name": "ipython",
    "version": 3
   },
   "file_extension": ".py",
   "mimetype": "text/x-python",
   "name": "python",
   "nbconvert_exporter": "python",
   "pygments_lexer": "ipython3",
   "version": "3.9.7"
  }
 },
 "nbformat": 4,
 "nbformat_minor": 1
}
