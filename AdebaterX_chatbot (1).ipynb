{
  "nbformat": 4,
  "nbformat_minor": 0,
  "metadata": {
    "colab": {
      "name": "AdebaterX_chatbot.ipynb",
      "provenance": [],
      "collapsed_sections": []
    },
    "kernelspec": {
      "display_name": "Python 3",
      "name": "python3"
    },
    "language_info": {
      "name": "python"
    }
  },
  "cells": [
    {
      "cell_type": "code",
      "metadata": {
        "id": "CEwezqplT-Z0"
      },
      "source": [
        "import numpy as np\n",
        "import nltk\n",
        "import string\n",
        "import random"
      ],
      "execution_count": 2,
      "outputs": []
    },
    {
      "cell_type": "code",
      "metadata": {
        "colab": {
          "base_uri": "https://localhost:8080/"
        },
        "id": "8MmM2PfxVcVn",
        "outputId": "2527fd49-1f13-4339-e676-8f658439da46"
      },
      "source": [
        "print(\"lets have a debate on topic: \\\"IOS is better than Android\\\"\")\n",
        "xz=input(\"Enter your choice (for/against): \")\n",
        "if (xz==\"for\"):\n",
        "  f=open('android.txt','r',errors = 'ignore')\n",
        "else:\n",
        "  f=open('ios.txt','r',errors = 'ignore')\n",
        "raw_doc = f.read() \n",
        "raw_doc = raw_doc.lower() \n",
        "nltk.download ('punkt') \n",
        "nltk.download ('wordnet') \n",
        "sent_tokens = nltk.sent_tokenize(raw_doc) \n",
        "word_tokens = nltk.word_tokenize(raw_doc) "
      ],
      "execution_count": 73,
      "outputs": [
        {
          "output_type": "stream",
          "name": "stdout",
          "text": [
            "lets have a debate on topic: \"IOS is better than Android\"\n",
            "Enter your choice (for/against): for\n",
            "[nltk_data] Downloading package punkt to /root/nltk_data...\n",
            "[nltk_data]   Package punkt is already up-to-date!\n",
            "[nltk_data] Downloading package wordnet to /root/nltk_data...\n",
            "[nltk_data]   Package wordnet is already up-to-date!\n"
          ]
        }
      ]
    },
    {
      "cell_type": "markdown",
      "metadata": {
        "id": "mIJhnQ1ldlDb"
      },
      "source": [
        "# Text Preprocessing"
      ]
    },
    {
      "cell_type": "code",
      "metadata": {
        "id": "_AYGdRzJdPQb"
      },
      "source": [
        "lemmer = nltk.stem.WordNetLemmatizer()\n",
        "def LemTokens (tokens): \n",
        "  return [lemmer.lemmatize(token) for token in tokens] \n",
        "remove_punct_dict = dict((ord(punct), None) for punct in string.punctuation)\n",
        "def LemNormalize(text): \n",
        "  return LemTokens (nltk.word_tokenize(text.lower ().translate(remove_punct_dict)))"
      ],
      "execution_count": 74,
      "outputs": []
    },
    {
      "cell_type": "markdown",
      "metadata": {
        "id": "uXAflgbBgU3M"
      },
      "source": [
        "# Defining the greeting message"
      ]
    },
    {
      "cell_type": "code",
      "metadata": {
        "id": "3udV_6xDgcqS"
      },
      "source": [
        "GREET_INPUTS = [\"hello\", \"hii\", \"hi\", \"hey\", \"morning\", \"gm\"]\n",
        "GREET_RESPONSES = [\"hii\", \"hey their\", \"hello\", \"i am glad! you are talking to me\"]\n",
        "\n",
        "def greet(sentence):\n",
        "  for word in sentence.split():\n",
        "      if word.lower() in GREET_INPUTS:\n",
        "        if (word.lower() == \"morning\"):\n",
        "          return sentence\n",
        "        return random.choice(GREET_RESPONSES)"
      ],
      "execution_count": 92,
      "outputs": []
    },
    {
      "cell_type": "markdown",
      "metadata": {
        "id": "d7iFRmi7iCm4"
      },
      "source": [
        "# Responce Generation"
      ]
    },
    {
      "cell_type": "code",
      "metadata": {
        "id": "3ZvWx9ZTiMqi"
      },
      "source": [
        "from sklearn.feature_extraction.text import TfidfVectorizer \n",
        "from sklearn.metrics.pairwise import cosine_similarity"
      ],
      "execution_count": 93,
      "outputs": []
    },
    {
      "cell_type": "code",
      "metadata": {
        "id": "8hvk3UMClbnO"
      },
      "source": [
        "def response(user_response): \n",
        "  robo1_response=''\n",
        "  TfidfVec = TfidfVectorizer(tokenizer=LemNormalize, stop_words='english')\n",
        "  tfidf = TfidfVec.fit_transform(sent_tokens)\n",
        "  vals = cosine_similarity(tfidf[-1], tfidf) \n",
        "  idx = vals.argsort()[0][-2] \n",
        "  flat = vals.flatten()\n",
        "  flat.sort()\n",
        "  req_tfidf = flat[-2]\n",
        "  if (req_tfidf==0): \n",
        "    robo1_response = robo1_response+\"I am sorry! I don't understand you\" \n",
        "    return robo1_response\n",
        "  else: \n",
        "    robo1_response = robo1_response+sent_tokens[idx] \n",
        "    return robo1_response"
      ],
      "execution_count": 94,
      "outputs": []
    },
    {
      "cell_type": "markdown",
      "metadata": {
        "id": "Cg3olgVunXms"
      },
      "source": [
        "# defining start/end protocols"
      ]
    },
    {
      "cell_type": "code",
      "metadata": {
        "colab": {
          "base_uri": "https://localhost:8080/"
        },
        "id": "lakdUYlmnd4_",
        "outputId": "1343b83c-6f4b-46b8-b4aa-d6e7b50c3163"
      },
      "source": [
        "flag = True\n",
        "print(\"You are good to go\\nWhenever you want to exit type bye\")\n",
        "\n",
        "while (flag == True):\n",
        "  user_response = input(\"You: \")\n",
        "  user_response = user_response.lower()\n",
        "  if (user_response != 'bye'): \n",
        "    if (user_response == 'thanks' or user_response == 'thank you'): \n",
        "      flag = False \n",
        "      print(\"Ashi: You are welcome..\\nHave a nice day!\") \n",
        "    else: \n",
        "      if (greet(user_response) != None):\n",
        "        print(\"Ashi: \"+greet(user_response)) \n",
        "      else: \n",
        "        sent_tokens.append(user_response)\n",
        "        word_tokens = word_tokens+nltk.word_tokenize(user_response)\n",
        "        final_words = list(set(word_tokens))\n",
        "        print(\"Ashi: \", end=\"\")\n",
        "        print(response(user_response))\n",
        "        sent_tokens.remove(user_response)\n",
        "  else: \n",
        "    flag=False \n",
        "    print(\"Ashi: Goodbye! Have a nice day.\")"
      ],
      "execution_count": 96,
      "outputs": [
        {
          "name": "stdout",
          "output_type": "stream",
          "text": [
            "You are good to go\n",
            "Whenever you want to exit type bye\n",
            "You: hii\n",
            "Ashi: hii\n",
            "You: good morning\n",
            "Ashi: good morning\n",
            "You: ios is better\n"
          ]
        },
        {
          "output_type": "stream",
          "name": "stderr",
          "text": [
            "/usr/local/lib/python3.7/dist-packages/sklearn/feature_extraction/text.py:385: UserWarning: Your stop_words may be inconsistent with your preprocessing. Tokenizing the stop words generated tokens ['ha', 'le', 'u', 'wa'] not in stop_words.\n",
            "  'stop_words.' % sorted(inconsistent))\n"
          ]
        },
        {
          "name": "stdout",
          "output_type": "stream",
          "text": [
            "Ashi: android is better than ios.\n",
            "You: it is available in 40 languages\n"
          ]
        },
        {
          "output_type": "stream",
          "name": "stderr",
          "text": [
            "/usr/local/lib/python3.7/dist-packages/sklearn/feature_extraction/text.py:385: UserWarning: Your stop_words may be inconsistent with your preprocessing. Tokenizing the stop words generated tokens ['ha', 'le', 'u', 'wa'] not in stop_words.\n",
            "  'stop_words.' % sorted(inconsistent))\n"
          ]
        },
        {
          "name": "stdout",
          "output_type": "stream",
          "text": [
            "Ashi: available language(s) - 100+ languages.\n",
            "You: it's virtual assistant is siri\n"
          ]
        },
        {
          "output_type": "stream",
          "name": "stderr",
          "text": [
            "/usr/local/lib/python3.7/dist-packages/sklearn/feature_extraction/text.py:385: UserWarning: Your stop_words may be inconsistent with your preprocessing. Tokenizing the stop words generated tokens ['ha', 'le', 'u', 'wa'] not in stop_words.\n",
            "  'stop_words.' % sorted(inconsistent))\n"
          ]
        },
        {
          "output_type": "stream",
          "name": "stdout",
          "text": [
            "Ashi: virtual assistant - google assistant.\n",
            "You: bye\n",
            "Ashi: Goodbye! Have a nice day.\n"
          ]
        }
      ]
    }
  ]
}