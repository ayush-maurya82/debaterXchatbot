{
  "nbformat": 4,
  "nbformat_minor": 0,
  "metadata": {
    "colab": {
      "name": "feminism.ipynb",
      "provenance": [],
      "collapsed_sections": []
    },
    "kernelspec": {
      "display_name": "Python 3",
      "name": "python3"
    },
    "language_info": {
      "name": "python"
    }
  },
  "cells": [
    {
      "cell_type": "code",
      "metadata": {
        "id": "53EOWiacTNwV"
      },
      "source": [
        "import numpy as np\n",
        "import nltk\n",
        "import string\n",
        "import random"
      ],
      "execution_count": 20,
      "outputs": []
    },
    {
      "cell_type": "code",
      "metadata": {
        "colab": {
          "base_uri": "https://localhost:8080/"
        },
        "id": "UXS3nmu8TSqI",
        "outputId": "562f2c59-b4f7-48d7-dbd1-247ee9d300a2"
      },
      "source": [
        "print(\"lets debate on feminism\")\n",
        "\n",
        "raw_doc = f.read() \n",
        "raw_doc = raw_doc.lower() \n",
        "nltk.download ('punkt') \n",
        "nltk.download ('wordnet') \n",
        "sent_tokens = nltk.sent_tokenize(raw_doc) \n",
        "word_tokens = nltk.word_tokenize(raw_doc) "
      ],
      "execution_count": 54,
      "outputs": [
        {
          "output_type": "stream",
          "name": "stdout",
          "text": [
            "lets debate on feminism\n",
            "for,against against\n",
            "[nltk_data] Downloading package punkt to /root/nltk_data...\n",
            "[nltk_data]   Package punkt is already up-to-date!\n",
            "[nltk_data] Downloading package wordnet to /root/nltk_data...\n",
            "[nltk_data]   Package wordnet is already up-to-date!\n"
          ]
        }
      ]
    },
    {
      "cell_type": "code",
      "metadata": {
        "colab": {
          "base_uri": "https://localhost:8080/"
        },
        "id": "VliY_sTYTUU6",
        "outputId": "daef9bd6-127e-44e8-de57-948ed5082416"
      },
      "source": [
        "sent_tokens[:2]"
      ],
      "execution_count": 23,
      "outputs": [
        {
          "output_type": "execute_result",
          "data": {
            "text/plain": [
              "['feminism is defined as the belief in the social, political, and economic equality of the sexes.',\n",
              " '[1]\\nthe goal of feminism is to challenge the systemic inequalities women face on a daily basis.']"
            ]
          },
          "metadata": {},
          "execution_count": 23
        }
      ]
    },
    {
      "cell_type": "code",
      "metadata": {
        "colab": {
          "base_uri": "https://localhost:8080/"
        },
        "id": "wsZFVfPRTW3O",
        "outputId": "7496dec7-c658-4359-c22a-9a2be7df075c"
      },
      "source": [
        "word_tokens[:4]"
      ],
      "execution_count": 24,
      "outputs": [
        {
          "output_type": "execute_result",
          "data": {
            "text/plain": [
              "['feminism', 'is', 'defined', 'as']"
            ]
          },
          "metadata": {},
          "execution_count": 24
        }
      ]
    },
    {
      "cell_type": "code",
      "metadata": {
        "id": "6M1Ejag5TZ7V"
      },
      "source": [
        "lemmer = nltk.stem.WordNetLemmatizer()\n",
        "def LemTokens (tokens): \n",
        "  return [lemmer.lemmatize(token) for token in tokens] \n",
        "remove_punct_dict = dict((ord(punct), None) for punct in string.punctuation)\n",
        "def LemNormalize(text): \n",
        "  return LemTokens (nltk.word_tokenize(text.lower ().translate(remove_punct_dict)))"
      ],
      "execution_count": 25,
      "outputs": []
    },
    {
      "cell_type": "code",
      "metadata": {
        "id": "Zwy0_OA6Tav3"
      },
      "source": [
        "GREET_INPUTS = (\"hello\", \"hii\", \"hi\", \"hey\", \"gm\")\n",
        "GREET_RESPONSES = [\"hii\", \"hey there\", \"hello\", \"i am glad! you are talking to me\"]\n",
        "\n",
        "def greet(sentence):\n",
        "\n",
        "  for word in sentence.split():\n",
        "    if word.lower() in GREET_INPUTS:\n",
        "      return random.choice(GREET_RESPONSES)"
      ],
      "execution_count": 64,
      "outputs": []
    },
    {
      "cell_type": "code",
      "metadata": {
        "id": "aElrzDVHTd54"
      },
      "source": [
        "from sklearn.feature_extraction.text import TfidfVectorizer \n",
        "from sklearn.metrics.pairwise import cosine_similarity"
      ],
      "execution_count": 27,
      "outputs": []
    },
    {
      "cell_type": "code",
      "metadata": {
        "id": "CUFp1bHdTfZz"
      },
      "source": [
        "def response(user_response): \n",
        "  robo1_response=''\n",
        "  TfidfVec = TfidfVectorizer(tokenizer=LemNormalize, stop_words='english')\n",
        "  tfidf = TfidfVec.fit_transform(sent_tokens)\n",
        "  vals = cosine_similarity(tfidf[-1], tfidf) \n",
        "  idx = vals.argsort()[0][-2] \n",
        "  flat = vals.flatten()\n",
        "  flat.sort()\n",
        "  req_tfidf = flat[-2]\n",
        "  if (req_tfidf==0): \n",
        "    robo1_response = robo1_response+\"I am sorry! I don't understand you\" \n",
        "    return robo1_response\n",
        "  else: \n",
        "    robo1_response = robo1_response+sent_tokens[idx] \n",
        "    return robo1_response"
      ],
      "execution_count": 28,
      "outputs": []
    },
    {
      "cell_type": "code",
      "metadata": {
        "colab": {
          "base_uri": "https://localhost:8080/"
        },
        "id": "XpE21oNbThkI",
        "outputId": "309c7fd0-de8b-4676-b417-8f21872d3828"
      },
      "source": [
        "flag = True\n",
        "print(\"my name is nikk . To exit type bye\")\n",
        "d=input(\"for,against \")\n",
        "if (d==\"for\"):\n",
        "  f=open('feminismfavour.txt','r',errors = 'ignore')\n",
        "else:\n",
        "  f=open('feminismagainst.txt','r',errors = 'ignore')\n",
        "while (flag == True):\n",
        "  user_response = input()\n",
        "  user_response = user_response.lower()\n",
        "  if (user_response != 'bye'): \n",
        "    if (user_response == 'thanks' or user_response == 'thank you'): \n",
        "      flag = False \n",
        "      print(\"nikk: You are welcome..\") \n",
        "    else: \n",
        "      if (greet(user_response) != None):\n",
        "        print(\"nikk: \"+greet(user_response)) \n",
        "      else: \n",
        "        sent_tokens.append(user_response)\n",
        "        word_tokens = word_tokens+nltk.word_tokenize(user_response)\n",
        "        final_words = list(set(word_tokens))\n",
        "        print(\"nikk: \", end=\"\")\n",
        "        print(response(user_response))\n",
        "        sent_tokens.remove(user_response)\n",
        "  else: \n",
        "    flag=False \n",
        "    print(\"nikk: Goodbye! Take care\")"
      ],
      "execution_count": null,
      "outputs": [
        {
          "name": "stdout",
          "output_type": "stream",
          "text": [
            "my name is nikk . To exit type bye\n",
            "for,against for\n",
            "hi\n",
            "nikk: hey there\n",
            "men are stronger\n"
          ]
        },
        {
          "output_type": "stream",
          "name": "stderr",
          "text": [
            "/usr/local/lib/python3.7/dist-packages/sklearn/feature_extraction/text.py:385: UserWarning: Your stop_words may be inconsistent with your preprocessing. Tokenizing the stop words generated tokens ['ha', 'le', 'u', 'wa'] not in stop_words.\n",
            "  'stop_words.' % sorted(inconsistent))\n"
          ]
        },
        {
          "name": "stdout",
          "output_type": "stream",
          "text": [
            "nikk: besides, statements such as “men are stronger than women” are missing a qualifier: most men are stronger than women.\n",
            "feminism is better\n"
          ]
        },
        {
          "output_type": "stream",
          "name": "stderr",
          "text": [
            "/usr/local/lib/python3.7/dist-packages/sklearn/feature_extraction/text.py:385: UserWarning: Your stop_words may be inconsistent with your preprocessing. Tokenizing the stop words generated tokens ['ha', 'le', 'u', 'wa'] not in stop_words.\n",
            "  'stop_words.' % sorted(inconsistent))\n"
          ]
        },
        {
          "output_type": "stream",
          "name": "stdout",
          "text": [
            "nikk: “if feminism cares about equality, why is it called feminism?\n"
          ]
        }
      ]
    }
  ]
}